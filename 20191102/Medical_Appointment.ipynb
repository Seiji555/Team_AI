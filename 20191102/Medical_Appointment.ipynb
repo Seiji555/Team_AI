{
 "cells": [
  {
   "cell_type": "markdown",
   "metadata": {},
   "source": [
    "# Medical Appointment No Shows\n",
    "\n",
    "## コンテキスト\n",
    "人は医師の予約を取り、すべての指示とノーショーを受け取ります。誰のせいですか？これが助けなら、賛成することを忘れないでください:) Greatings！\n",
    "\n",
    "## 内容\n",
    "110.527の医療予約は、14の関連する変数（特性）です。最も重要なのは、患者が予定に現れた場合、またはノーショーの場合です。変数名は一目瞭然です。疑問がある場合はお知らせください！奨学金変数は、この概念を意味します= https://en.wikipedia.org/wiki/Bolsa_Fam%C3%ADlia 14変数データ\n",
    "\n",
    "## 辞書\n",
    "- 01-PatientId患者の識別\n",
    "- 02-AppointmentID各予定の識別\n",
    "- 03-性別男性または女性。女性は男性に比べて大きな割合を占めており、女性はより健康に気を配っています。 \n",
    "- 04-DataMarcacaoConsulta医師を訪問しなければならない実際の予約の日。 \n",
    "- 05-DataAgendamento誰かが予定を呼び出しまたは登録した日。これはもちろん予定の前です。 \n",
    "- 06-年齢患者は何歳ですか。 \n",
    "- 07-近所予約が行われる場所。 \n",
    "- 08-奨学金真偽。観察、これは広範なトピックです。この記事を読むことを検討してくださいhttps://en.wikipedia.org/wiki/Bolsa_Fam%C3%ADlia - 09-高血圧症TrueまたはFalse \n",
    "- 10-糖尿病TrueまたはFalse Alcoholism TrueまたはFalse Handcap TrueまたはFalse SMS_received患者に送信される1つ以上のメッセージ。ノーショーTrueまたはFalse。\n",
    "\n",
    "## インスピレーション\n",
    "予定を非表示にする誰かを予測できる場合はどうなりますか？"
   ]
  },
  {
   "cell_type": "markdown",
   "metadata": {},
   "source": [
    "## データ分析\n",
    "必要になるライブラリ呼ぶ"
   ]
  },
  {
   "cell_type": "code",
   "execution_count": 2,
   "metadata": {},
   "outputs": [],
   "source": [
    "# data analysis and wrangling\n",
    "import pandas as pd\n",
    "import numpy as np\n",
    "import random as rnd\n",
    "\n",
    "from collections import Counter\n",
    "\n",
    "# visualization\n",
    "import seaborn as sns\n",
    "import matplotlib.pyplot as plt\n",
    "%matplotlib inline\n"
   ]
  },
  {
   "cell_type": "markdown",
   "metadata": {},
   "source": [
    "# データ読み込み"
   ]
  },
  {
   "cell_type": "code",
   "execution_count": 3,
   "metadata": {},
   "outputs": [],
   "source": [
    "train_df = pd.read_csv('~/Dropbox/@00_input/Medical_Appointment/KaggleV2-May-2016.csv')"
   ]
  },
  {
   "cell_type": "markdown",
   "metadata": {},
   "source": [
    "データフレームのカラムを取得"
   ]
  },
  {
   "cell_type": "code",
   "execution_count": 4,
   "metadata": {},
   "outputs": [
    {
     "name": "stdout",
     "output_type": "stream",
     "text": [
      "['PatientId' 'AppointmentID' 'Gender' 'ScheduledDay' 'AppointmentDay'\n",
      " 'Age' 'Neighbourhood' 'Scholarship' 'Hipertension' 'Diabetes'\n",
      " 'Alcoholism' 'Handcap' 'SMS_received' 'No-show']\n"
     ]
    }
   ],
   "source": [
    "print(train_df.columns.values)\n",
    "#print(test_df.columns.values)"
   ]
  },
  {
   "cell_type": "code",
   "execution_count": 5,
   "metadata": {},
   "outputs": [
    {
     "name": "stdout",
     "output_type": "stream",
     "text": [
      "train data size (110527, 14)\n"
     ]
    }
   ],
   "source": [
    "print(\"train data size\", train_df.shape)\n",
    "#print(\"train data size\", test_df.shape)"
   ]
  },
  {
   "cell_type": "code",
   "execution_count": 6,
   "metadata": {},
   "outputs": [
    {
     "data": {
      "text/html": [
       "<div>\n",
       "<style scoped>\n",
       "    .dataframe tbody tr th:only-of-type {\n",
       "        vertical-align: middle;\n",
       "    }\n",
       "\n",
       "    .dataframe tbody tr th {\n",
       "        vertical-align: top;\n",
       "    }\n",
       "\n",
       "    .dataframe thead th {\n",
       "        text-align: right;\n",
       "    }\n",
       "</style>\n",
       "<table border=\"1\" class=\"dataframe\">\n",
       "  <thead>\n",
       "    <tr style=\"text-align: right;\">\n",
       "      <th></th>\n",
       "      <th>PatientId</th>\n",
       "      <th>AppointmentID</th>\n",
       "      <th>Gender</th>\n",
       "      <th>ScheduledDay</th>\n",
       "      <th>AppointmentDay</th>\n",
       "      <th>Age</th>\n",
       "      <th>Neighbourhood</th>\n",
       "      <th>Scholarship</th>\n",
       "      <th>Hipertension</th>\n",
       "      <th>Diabetes</th>\n",
       "      <th>Alcoholism</th>\n",
       "      <th>Handcap</th>\n",
       "      <th>SMS_received</th>\n",
       "      <th>No-show</th>\n",
       "    </tr>\n",
       "  </thead>\n",
       "  <tbody>\n",
       "    <tr>\n",
       "      <td>0</td>\n",
       "      <td>2.987250e+13</td>\n",
       "      <td>5642903</td>\n",
       "      <td>F</td>\n",
       "      <td>2016-04-29T18:38:08Z</td>\n",
       "      <td>2016-04-29T00:00:00Z</td>\n",
       "      <td>62</td>\n",
       "      <td>JARDIM DA PENHA</td>\n",
       "      <td>0</td>\n",
       "      <td>1</td>\n",
       "      <td>0</td>\n",
       "      <td>0</td>\n",
       "      <td>0</td>\n",
       "      <td>0</td>\n",
       "      <td>No</td>\n",
       "    </tr>\n",
       "    <tr>\n",
       "      <td>1</td>\n",
       "      <td>5.589978e+14</td>\n",
       "      <td>5642503</td>\n",
       "      <td>M</td>\n",
       "      <td>2016-04-29T16:08:27Z</td>\n",
       "      <td>2016-04-29T00:00:00Z</td>\n",
       "      <td>56</td>\n",
       "      <td>JARDIM DA PENHA</td>\n",
       "      <td>0</td>\n",
       "      <td>0</td>\n",
       "      <td>0</td>\n",
       "      <td>0</td>\n",
       "      <td>0</td>\n",
       "      <td>0</td>\n",
       "      <td>No</td>\n",
       "    </tr>\n",
       "    <tr>\n",
       "      <td>2</td>\n",
       "      <td>4.262962e+12</td>\n",
       "      <td>5642549</td>\n",
       "      <td>F</td>\n",
       "      <td>2016-04-29T16:19:04Z</td>\n",
       "      <td>2016-04-29T00:00:00Z</td>\n",
       "      <td>62</td>\n",
       "      <td>MATA DA PRAIA</td>\n",
       "      <td>0</td>\n",
       "      <td>0</td>\n",
       "      <td>0</td>\n",
       "      <td>0</td>\n",
       "      <td>0</td>\n",
       "      <td>0</td>\n",
       "      <td>No</td>\n",
       "    </tr>\n",
       "    <tr>\n",
       "      <td>3</td>\n",
       "      <td>8.679512e+11</td>\n",
       "      <td>5642828</td>\n",
       "      <td>F</td>\n",
       "      <td>2016-04-29T17:29:31Z</td>\n",
       "      <td>2016-04-29T00:00:00Z</td>\n",
       "      <td>8</td>\n",
       "      <td>PONTAL DE CAMBURI</td>\n",
       "      <td>0</td>\n",
       "      <td>0</td>\n",
       "      <td>0</td>\n",
       "      <td>0</td>\n",
       "      <td>0</td>\n",
       "      <td>0</td>\n",
       "      <td>No</td>\n",
       "    </tr>\n",
       "    <tr>\n",
       "      <td>4</td>\n",
       "      <td>8.841186e+12</td>\n",
       "      <td>5642494</td>\n",
       "      <td>F</td>\n",
       "      <td>2016-04-29T16:07:23Z</td>\n",
       "      <td>2016-04-29T00:00:00Z</td>\n",
       "      <td>56</td>\n",
       "      <td>JARDIM DA PENHA</td>\n",
       "      <td>0</td>\n",
       "      <td>1</td>\n",
       "      <td>1</td>\n",
       "      <td>0</td>\n",
       "      <td>0</td>\n",
       "      <td>0</td>\n",
       "      <td>No</td>\n",
       "    </tr>\n",
       "  </tbody>\n",
       "</table>\n",
       "</div>"
      ],
      "text/plain": [
       "      PatientId  AppointmentID Gender          ScheduledDay  \\\n",
       "0  2.987250e+13        5642903      F  2016-04-29T18:38:08Z   \n",
       "1  5.589978e+14        5642503      M  2016-04-29T16:08:27Z   \n",
       "2  4.262962e+12        5642549      F  2016-04-29T16:19:04Z   \n",
       "3  8.679512e+11        5642828      F  2016-04-29T17:29:31Z   \n",
       "4  8.841186e+12        5642494      F  2016-04-29T16:07:23Z   \n",
       "\n",
       "         AppointmentDay  Age      Neighbourhood  Scholarship  Hipertension  \\\n",
       "0  2016-04-29T00:00:00Z   62    JARDIM DA PENHA            0             1   \n",
       "1  2016-04-29T00:00:00Z   56    JARDIM DA PENHA            0             0   \n",
       "2  2016-04-29T00:00:00Z   62      MATA DA PRAIA            0             0   \n",
       "3  2016-04-29T00:00:00Z    8  PONTAL DE CAMBURI            0             0   \n",
       "4  2016-04-29T00:00:00Z   56    JARDIM DA PENHA            0             1   \n",
       "\n",
       "   Diabetes  Alcoholism  Handcap  SMS_received No-show  \n",
       "0         0           0        0             0      No  \n",
       "1         0           0        0             0      No  \n",
       "2         0           0        0             0      No  \n",
       "3         0           0        0             0      No  \n",
       "4         1           0        0             0      No  "
      ]
     },
     "execution_count": 6,
     "metadata": {},
     "output_type": "execute_result"
    }
   ],
   "source": [
    "train_df.head()"
   ]
  },
  {
   "cell_type": "code",
   "execution_count": 7,
   "metadata": {},
   "outputs": [
    {
     "name": "stdout",
     "output_type": "stream",
     "text": [
      "<class 'pandas.core.frame.DataFrame'>\n",
      "RangeIndex: 110527 entries, 0 to 110526\n",
      "Data columns (total 14 columns):\n",
      "PatientId         110527 non-null float64\n",
      "AppointmentID     110527 non-null int64\n",
      "Gender            110527 non-null object\n",
      "ScheduledDay      110527 non-null object\n",
      "AppointmentDay    110527 non-null object\n",
      "Age               110527 non-null int64\n",
      "Neighbourhood     110527 non-null object\n",
      "Scholarship       110527 non-null int64\n",
      "Hipertension      110527 non-null int64\n",
      "Diabetes          110527 non-null int64\n",
      "Alcoholism        110527 non-null int64\n",
      "Handcap           110527 non-null int64\n",
      "SMS_received      110527 non-null int64\n",
      "No-show           110527 non-null object\n",
      "dtypes: float64(1), int64(8), object(5)\n",
      "memory usage: 11.8+ MB\n"
     ]
    }
   ],
   "source": [
    "train_df.info()"
   ]
  },
  {
   "cell_type": "code",
   "execution_count": 8,
   "metadata": {},
   "outputs": [
    {
     "name": "stdout",
     "output_type": "stream",
     "text": [
      "Missing values per column:\n",
      "PatientId         0\n",
      "AppointmentID     0\n",
      "Gender            0\n",
      "ScheduledDay      0\n",
      "AppointmentDay    0\n",
      "Age               0\n",
      "Neighbourhood     0\n",
      "Scholarship       0\n",
      "Hipertension      0\n",
      "Diabetes          0\n",
      "Alcoholism        0\n",
      "Handcap           0\n",
      "SMS_received      0\n",
      "No-show           0\n",
      "dtype: int64\n"
     ]
    }
   ],
   "source": [
    "def num_missing(x):\n",
    "  return sum(x.isnull())\n",
    "\n",
    "#Applying per column:\n",
    "print (\"Missing values per column:\")\n",
    "print (train_df.apply(num_missing, axis=0) )#axis=0 defines that function is to be applied on each column"
   ]
  },
  {
   "cell_type": "markdown",
   "metadata": {},
   "source": [
    "## データ(object)の確認"
   ]
  },
  {
   "cell_type": "markdown",
   "metadata": {},
   "source": [
    "## Gender\n",
    "2種類\n",
    "<br>\n",
    "性別（F＝女性、M＝男性）\n",
    "\n"
   ]
  },
  {
   "cell_type": "code",
   "execution_count": 9,
   "metadata": {},
   "outputs": [
    {
     "name": "stdout",
     "output_type": "stream",
     "text": [
      "('F', 71840) 1\n",
      "('M', 38687) 2\n"
     ]
    }
   ],
   "source": [
    "mycounter = Counter(train_df.Gender)\n",
    "n = 1\n",
    "for word in mycounter.most_common():\n",
    "    print(word, n)\n",
    "    n = n +1"
   ]
  },
  {
   "cell_type": "code",
   "execution_count": 10,
   "metadata": {},
   "outputs": [],
   "source": [
    "## ScheduledDay"
   ]
  },
  {
   "cell_type": "code",
   "execution_count": 12,
   "metadata": {},
   "outputs": [
    {
     "ename": "SyntaxError",
     "evalue": "EOL while scanning string literal (<ipython-input-12-a8a6d1f4e038>, line 1)",
     "output_type": "error",
     "traceback": [
      "\u001b[0;36m  File \u001b[0;32m\"<ipython-input-12-a8a6d1f4e038>\"\u001b[0;36m, line \u001b[0;32m1\u001b[0m\n\u001b[0;31m    \"\u001b[0m\n\u001b[0m     ^\u001b[0m\n\u001b[0;31mSyntaxError\u001b[0m\u001b[0;31m:\u001b[0m EOL while scanning string literal\n"
     ]
    }
   ],
   "source": [
    "\"\n",
    "mycounter = Counter(train_df.ScheduledDay)\n",
    "n = 1\n",
    "for word in mycounter.most_common():\n",
    "    print(word, n)\n",
    "    n = n +1\n",
    "    \n",
    "\""
   ]
  },
  {
   "cell_type": "markdown",
   "metadata": {},
   "source": [
    "## Neighbourhood"
   ]
  },
  {
   "cell_type": "code",
   "execution_count": 13,
   "metadata": {},
   "outputs": [
    {
     "name": "stdout",
     "output_type": "stream",
     "text": [
      "('JARDIM CAMBURI', 7717) 1\n",
      "('MARIA ORTIZ', 5805) 2\n",
      "('RESISTÊNCIA', 4431) 3\n",
      "('JARDIM DA PENHA', 3877) 4\n",
      "('ITARARÉ', 3514) 5\n",
      "('CENTRO', 3334) 6\n",
      "('TABUAZEIRO', 3132) 7\n",
      "('SANTA MARTHA', 3131) 8\n",
      "('JESUS DE NAZARETH', 2853) 9\n",
      "('BONFIM', 2773) 10\n",
      "('SANTO ANTÔNIO', 2746) 11\n",
      "('SANTO ANDRÉ', 2571) 12\n",
      "('CARATOÍRA', 2565) 13\n",
      "('JABOUR', 2509) 14\n",
      "('SÃO PEDRO', 2448) 15\n",
      "('ILHA DO PRÍNCIPE', 2266) 16\n",
      "('NOVA PALESTINA', 2264) 17\n",
      "('ANDORINHAS', 2262) 18\n",
      "('DA PENHA', 2217) 19\n",
      "('ROMÃO', 2215) 20\n",
      "('GURIGICA', 2018) 21\n",
      "('SÃO JOSÉ', 1977) 22\n",
      "('BELA VISTA', 1907) 23\n",
      "('MARUÍPE', 1902) 24\n",
      "('FORTE SÃO JOÃO', 1889) 25\n",
      "('ILHA DE SANTA MARIA', 1885) 26\n",
      "('SÃO CRISTÓVÃO', 1836) 27\n",
      "('REDENÇÃO', 1553) 28\n",
      "('SÃO BENEDITO', 1439) 29\n",
      "('JOANA D´ARC', 1427) 30\n",
      "('CRUZAMENTO', 1398) 31\n",
      "('CONSOLAÇÃO', 1376) 32\n",
      "('SANTA TEREZA', 1332) 33\n",
      "('PRAIA DO SUÁ', 1288) 34\n",
      "('SANTOS DUMONT', 1276) 35\n",
      "('GRANDE VITÓRIA', 1071) 36\n",
      "('ILHA DAS CAIEIRAS', 1071) 37\n",
      "('INHANGUETÁ', 1057) 38\n",
      "('PRAIA DO CANTO', 1035) 39\n",
      "('BENTO FERREIRA', 858) 40\n",
      "('VILA RUBIM', 851) 41\n",
      "('CONQUISTA', 849) 42\n",
      "('DO QUADRO', 849) 43\n",
      "('REPÚBLICA', 835) 44\n",
      "('MONTE BELO', 824) 45\n",
      "('PARQUE MOSCOSO', 802) 46\n",
      "('GOIABEIRAS', 700) 47\n",
      "('JUCUTUQUARA', 694) 48\n",
      "('FONTE GRANDE', 682) 49\n",
      "('MATA DA PRAIA', 644) 50\n",
      "('DO CABRAL', 560) 51\n",
      "('SANTOS REIS', 547) 52\n",
      "('ESTRELINHA', 538) 53\n",
      "('SANTA CLARA', 506) 54\n",
      "('SOLON BORGES', 469) 55\n",
      "('PIEDADE', 452) 56\n",
      "('SANTA CECÍLIA', 448) 57\n",
      "('SANTA LÚCIA', 438) 58\n",
      "('SANTA LUÍZA', 428) 59\n",
      "('BARRO VERMELHO', 423) 60\n",
      "('DO MOSCOSO', 413) 61\n",
      "('MÁRIO CYPRESTE', 371) 62\n",
      "('BOA VISTA', 312) 63\n",
      "('COMDUSA', 310) 64\n",
      "('DE LOURDES', 305) 65\n",
      "('ARIOVALDO FAVALESSA', 282) 66\n",
      "('ANTÔNIO HONÓRIO', 271) 67\n",
      "('FRADINHOS', 258) 68\n",
      "('ENSEADA DO SUÁ', 235) 69\n",
      "('SANTA HELENA', 178) 70\n",
      "('HORTO', 175) 71\n",
      "('UNIVERSITÁRIO', 152) 72\n",
      "('SEGURANÇA DO LAR', 145) 73\n",
      "('NAZARETH', 135) 74\n",
      "('MORADA DE CAMBURI', 96) 75\n",
      "('PONTAL DE CAMBURI', 69) 76\n",
      "('ILHA DO BOI', 35) 77\n",
      "('ILHA DO FRADE', 10) 78\n",
      "('AEROPORTO', 8) 79\n",
      "('ILHAS OCEÂNICAS DE TRINDADE', 2) 80\n",
      "('PARQUE INDUSTRIAL', 1) 81\n"
     ]
    }
   ],
   "source": [
    "mycounter = Counter(train_df.Neighbourhood)\n",
    "n = 1\n",
    "for word in mycounter.most_common():\n",
    "    print(word, n)\n",
    "    n = n +1"
   ]
  },
  {
   "cell_type": "markdown",
   "metadata": {},
   "source": [
    "## No-show "
   ]
  },
  {
   "cell_type": "code",
   "execution_count": 17,
   "metadata": {},
   "outputs": [
    {
     "ename": "SyntaxError",
     "evalue": "EOL while scanning string literal (<ipython-input-17-f672c818df53>, line 1)",
     "output_type": "error",
     "traceback": [
      "\u001b[0;36m  File \u001b[0;32m\"<ipython-input-17-f672c818df53>\"\u001b[0;36m, line \u001b[0;32m1\u001b[0m\n\u001b[0;31m    mycounter = Counter(train_df.No'-how)\u001b[0m\n\u001b[0m                                         ^\u001b[0m\n\u001b[0;31mSyntaxError\u001b[0m\u001b[0;31m:\u001b[0m EOL while scanning string literal\n"
     ]
    }
   ],
   "source": [
    "mycounter = Counter(train_df.No-how)\n",
    "n = 1\n",
    "for word in mycounter.most_common():\n",
    "    print(word, n)\n",
    "    n = n +1"
   ]
  },
  {
   "cell_type": "code",
   "execution_count": null,
   "metadata": {},
   "outputs": [],
   "source": []
  }
 ],
 "metadata": {
  "kernelspec": {
   "display_name": "Python 3",
   "language": "python",
   "name": "python3"
  },
  "language_info": {
   "codemirror_mode": {
    "name": "ipython",
    "version": 3
   },
   "file_extension": ".py",
   "mimetype": "text/x-python",
   "name": "python",
   "nbconvert_exporter": "python",
   "pygments_lexer": "ipython3",
   "version": "3.7.2"
  }
 },
 "nbformat": 4,
 "nbformat_minor": 2
}
