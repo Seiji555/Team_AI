{
 "cells": [
  {
   "cell_type": "markdown",
   "metadata": {},
   "source": [
    "# Synchronized Brainwave Dataset\n",
    "\n",
    "## コンテキスト\n",
    "EEGデバイスはより安価で目立たなくなりつつありますが、EEGデータの大きなリポジトリが少ないためなど、EEGデータを効果的に活用するアプリケーションはほとんどありません。 \n",
    "\n",
    "UC Berkeley School of InformationのMIDSクラスは、消費者グレードの脳波検出ヘッドセットを使用して収集されたデータセットと、データの収集に使用されたソフトウェアコードおよび視覚刺激を共有しています。\n",
    "\n",
    "データセットには、刺激提示中のすべての被験者の測定値と、刺激の開始前と終了後の測定値が含まれます。\n",
    "\n",
    "## 内容\n",
    "2つの異なるグループに2つのわずかに異なる刺激を提示しました。刺激1はここから入手でき、刺激2はこちらから入手できます。両方の刺激について、脳波データが収集されている間に、約15人のグループが刺激を同時に見ました。各人が見た刺激は、subject-metadata.csvのセッションフィールドで利用できます。 （刺激2を見た被験者は刺激1の間に部屋を去り、逆も同様です）。 stimulate-timing.csvで両方の刺激の同期時間を見つけます。各参加者について、他のメタデータも匿名で収集しました：\n",
    "\n",
    "- （1）刺激中に表示されたビデオ（スーパーボウル広告）を以前に見たかどうか、\n",
    "- （2）性別、\n",
    "- （3）隠されたアイコンが表示されるかどうか\n",
    "- （4）カラーカウントエクササイズ中に選択した色。\n",
    "\n",
    "これらはすべてsubject-metadata.csvにあります。また、セッション1とセッション2の両方のすべての刺激イベントのタイミング（indra_time）を収集しました。これらの時間はstimulation-times.csvに含まれています。サーバーは、各Mindwave Mobileデバイスから毎秒1つのデータパケットを受信し、1つの行エントリにデータを保存します。\n",
    "\n",
    "## 謝辞\n",
    "このデータセットまたはソフトウェアコードまたは刺激ファイルを使用して研究結果を公開する場合は、John Chuang、Nick Merrill、Thomas Maillart、およびUC Berkeley Spring 2015 MIDS Immersion Classの学生を引用してください。 「一般的な視聴覚刺激で提示されたグループからの同期脳波記録（2015年5月9日）。」 2015年5月。"
   ]
  },
  {
   "cell_type": "markdown",
   "metadata": {},
   "source": [
    "## データ分析\n",
    "必要になるライブラリ呼ぶ"
   ]
  },
  {
   "cell_type": "code",
   "execution_count": 1,
   "metadata": {},
   "outputs": [],
   "source": [
    "# data analysis and wrangling\n",
    "import pandas as pd\n",
    "import numpy as np\n",
    "import random as rnd\n",
    "\n",
    "from collections import Counter\n",
    "\n",
    "# visualization\n",
    "import seaborn as sns\n",
    "import matplotlib.pyplot as plt\n",
    "%matplotlib inline\n"
   ]
  },
  {
   "cell_type": "markdown",
   "metadata": {},
   "source": [
    "# データ読み込み"
   ]
  },
  {
   "cell_type": "code",
   "execution_count": 2,
   "metadata": {},
   "outputs": [],
   "source": [
    "train_df = pd.read_csv('~/Dropbox/@00_input/Synchronized_Brainwave/eeg-data.csv')"
   ]
  },
  {
   "cell_type": "markdown",
   "metadata": {},
   "source": [
    "データフレームのカラムを取得"
   ]
  },
  {
   "cell_type": "code",
   "execution_count": 3,
   "metadata": {},
   "outputs": [
    {
     "name": "stdout",
     "output_type": "stream",
     "text": [
      "['Unnamed: 0' 'id' 'indra_time' 'browser_latency' 'reading_time'\n",
      " 'attention_esense' 'meditation_esense' 'eeg_power' 'raw_values'\n",
      " 'signal_quality' 'createdAt' 'updatedAt' 'label']\n"
     ]
    }
   ],
   "source": [
    "print(train_df.columns.values)"
   ]
  },
  {
   "cell_type": "code",
   "execution_count": 5,
   "metadata": {},
   "outputs": [
    {
     "name": "stdout",
     "output_type": "stream",
     "text": [
      "train data size (4812, 29)\n"
     ]
    }
   ],
   "source": [
    "print(\"train data size\", train_df.shape)"
   ]
  },
  {
   "cell_type": "code",
   "execution_count": 4,
   "metadata": {},
   "outputs": [
    {
     "data": {
      "text/html": [
       "<div>\n",
       "<style scoped>\n",
       "    .dataframe tbody tr th:only-of-type {\n",
       "        vertical-align: middle;\n",
       "    }\n",
       "\n",
       "    .dataframe tbody tr th {\n",
       "        vertical-align: top;\n",
       "    }\n",
       "\n",
       "    .dataframe thead th {\n",
       "        text-align: right;\n",
       "    }\n",
       "</style>\n",
       "<table border=\"1\" class=\"dataframe\">\n",
       "  <thead>\n",
       "    <tr style=\"text-align: right;\">\n",
       "      <th></th>\n",
       "      <th>Unnamed: 0</th>\n",
       "      <th>id</th>\n",
       "      <th>indra_time</th>\n",
       "      <th>browser_latency</th>\n",
       "      <th>reading_time</th>\n",
       "      <th>attention_esense</th>\n",
       "      <th>meditation_esense</th>\n",
       "      <th>eeg_power</th>\n",
       "      <th>raw_values</th>\n",
       "      <th>signal_quality</th>\n",
       "      <th>createdAt</th>\n",
       "      <th>updatedAt</th>\n",
       "      <th>label</th>\n",
       "    </tr>\n",
       "  </thead>\n",
       "  <tbody>\n",
       "    <tr>\n",
       "      <td>0</td>\n",
       "      <td>3730</td>\n",
       "      <td>12</td>\n",
       "      <td>2015-05-09 23:13:42.281</td>\n",
       "      <td>1461</td>\n",
       "      <td>2015-05-09 16:13:40.954</td>\n",
       "      <td>0</td>\n",
       "      <td>0</td>\n",
       "      <td>[944412.0, 111373.0, 52404.0, 28390.0, 3237.0,...</td>\n",
       "      <td>[-203.0, -202.0, -196.0, -185.0, -163.0, -137....</td>\n",
       "      <td>200</td>\n",
       "      <td>2015-05-09 23:13:39.550</td>\n",
       "      <td>2015-05-09 23:13:39.549+00</td>\n",
       "      <td>unlabeled</td>\n",
       "    </tr>\n",
       "    <tr>\n",
       "      <td>1</td>\n",
       "      <td>3732</td>\n",
       "      <td>12</td>\n",
       "      <td>2015-05-09 23:13:43.186</td>\n",
       "      <td>1461</td>\n",
       "      <td>2015-05-09 16:13:41.964</td>\n",
       "      <td>0</td>\n",
       "      <td>0</td>\n",
       "      <td>[1793049.0, 89551.0, 3896.0, 21727.0, 9301.0, ...</td>\n",
       "      <td>[104.0, 134.0, 128.0, 121.0, 145.0, 151.0, 123...</td>\n",
       "      <td>200</td>\n",
       "      <td>2015-05-09 23:13:40.559</td>\n",
       "      <td>2015-05-09 23:13:40.559+00</td>\n",
       "      <td>unlabeled</td>\n",
       "    </tr>\n",
       "    <tr>\n",
       "      <td>2</td>\n",
       "      <td>3734</td>\n",
       "      <td>12</td>\n",
       "      <td>2015-05-09 23:13:44.392</td>\n",
       "      <td>1461</td>\n",
       "      <td>2015-05-09 16:13:42.950</td>\n",
       "      <td>0</td>\n",
       "      <td>0</td>\n",
       "      <td>[400192.0, 640624.0, 153087.0, 69733.0, 98854....</td>\n",
       "      <td>[2002.0, 2047.0, 2047.0, 2047.0, 2047.0, 2047....</td>\n",
       "      <td>200</td>\n",
       "      <td>2015-05-09 23:13:41.549</td>\n",
       "      <td>2015-05-09 23:13:41.549+00</td>\n",
       "      <td>unlabeled</td>\n",
       "    </tr>\n",
       "    <tr>\n",
       "      <td>3</td>\n",
       "      <td>3735</td>\n",
       "      <td>12</td>\n",
       "      <td>2015-05-09 23:13:45.297</td>\n",
       "      <td>1461</td>\n",
       "      <td>2015-05-09 16:13:43.935</td>\n",
       "      <td>0</td>\n",
       "      <td>0</td>\n",
       "      <td>[681192.0, 138630.0, 67891.0, 26459.0, 592240....</td>\n",
       "      <td>[1287.0, 1241.0, 1196.0, 1155.0, 1113.0, 1072....</td>\n",
       "      <td>200</td>\n",
       "      <td>2015-05-09 23:13:42.532</td>\n",
       "      <td>2015-05-09 23:13:42.532+00</td>\n",
       "      <td>unlabeled</td>\n",
       "    </tr>\n",
       "    <tr>\n",
       "      <td>4</td>\n",
       "      <td>3737</td>\n",
       "      <td>12</td>\n",
       "      <td>2015-05-09 23:13:46.201</td>\n",
       "      <td>1460</td>\n",
       "      <td>2015-05-09 16:13:44.936</td>\n",
       "      <td>0</td>\n",
       "      <td>0</td>\n",
       "      <td>[268406.0, 197772.0, 190654.0, 266433.0, 91683...</td>\n",
       "      <td>[1905.0, 1836.0, 1770.0, 1707.0, 1645.0, 1587....</td>\n",
       "      <td>200</td>\n",
       "      <td>2015-05-09 23:13:43.532</td>\n",
       "      <td>2015-05-09 23:13:43.532+00</td>\n",
       "      <td>unlabeled</td>\n",
       "    </tr>\n",
       "  </tbody>\n",
       "</table>\n",
       "</div>"
      ],
      "text/plain": [
       "   Unnamed: 0  id               indra_time browser_latency  \\\n",
       "0        3730  12  2015-05-09 23:13:42.281            1461   \n",
       "1        3732  12  2015-05-09 23:13:43.186            1461   \n",
       "2        3734  12  2015-05-09 23:13:44.392            1461   \n",
       "3        3735  12  2015-05-09 23:13:45.297            1461   \n",
       "4        3737  12  2015-05-09 23:13:46.201            1460   \n",
       "\n",
       "              reading_time  attention_esense  meditation_esense  \\\n",
       "0  2015-05-09 16:13:40.954                 0                  0   \n",
       "1  2015-05-09 16:13:41.964                 0                  0   \n",
       "2  2015-05-09 16:13:42.950                 0                  0   \n",
       "3  2015-05-09 16:13:43.935                 0                  0   \n",
       "4  2015-05-09 16:13:44.936                 0                  0   \n",
       "\n",
       "                                           eeg_power  \\\n",
       "0  [944412.0, 111373.0, 52404.0, 28390.0, 3237.0,...   \n",
       "1  [1793049.0, 89551.0, 3896.0, 21727.0, 9301.0, ...   \n",
       "2  [400192.0, 640624.0, 153087.0, 69733.0, 98854....   \n",
       "3  [681192.0, 138630.0, 67891.0, 26459.0, 592240....   \n",
       "4  [268406.0, 197772.0, 190654.0, 266433.0, 91683...   \n",
       "\n",
       "                                          raw_values  signal_quality  \\\n",
       "0  [-203.0, -202.0, -196.0, -185.0, -163.0, -137....             200   \n",
       "1  [104.0, 134.0, 128.0, 121.0, 145.0, 151.0, 123...             200   \n",
       "2  [2002.0, 2047.0, 2047.0, 2047.0, 2047.0, 2047....             200   \n",
       "3  [1287.0, 1241.0, 1196.0, 1155.0, 1113.0, 1072....             200   \n",
       "4  [1905.0, 1836.0, 1770.0, 1707.0, 1645.0, 1587....             200   \n",
       "\n",
       "                 createdAt                   updatedAt      label  \n",
       "0  2015-05-09 23:13:39.550  2015-05-09 23:13:39.549+00  unlabeled  \n",
       "1  2015-05-09 23:13:40.559  2015-05-09 23:13:40.559+00  unlabeled  \n",
       "2  2015-05-09 23:13:41.549  2015-05-09 23:13:41.549+00  unlabeled  \n",
       "3  2015-05-09 23:13:42.532  2015-05-09 23:13:42.532+00  unlabeled  \n",
       "4  2015-05-09 23:13:43.532  2015-05-09 23:13:43.532+00  unlabeled  "
      ]
     },
     "execution_count": 4,
     "metadata": {},
     "output_type": "execute_result"
    }
   ],
   "source": [
    "train_df.head()"
   ]
  },
  {
   "cell_type": "code",
   "execution_count": 5,
   "metadata": {},
   "outputs": [
    {
     "name": "stdout",
     "output_type": "stream",
     "text": [
      "<class 'pandas.core.frame.DataFrame'>\n",
      "RangeIndex: 30013 entries, 0 to 30012\n",
      "Data columns (total 13 columns):\n",
      "Unnamed: 0           30013 non-null int64\n",
      "id                   30013 non-null int64\n",
      "indra_time           30013 non-null object\n",
      "browser_latency      30013 non-null object\n",
      "reading_time         30013 non-null object\n",
      "attention_esense     30013 non-null int64\n",
      "meditation_esense    30013 non-null int64\n",
      "eeg_power            30013 non-null object\n",
      "raw_values           30013 non-null object\n",
      "signal_quality       30013 non-null int64\n",
      "createdAt            30013 non-null object\n",
      "updatedAt            30013 non-null object\n",
      "label                30013 non-null object\n",
      "dtypes: int64(5), object(8)\n",
      "memory usage: 3.0+ MB\n"
     ]
    }
   ],
   "source": [
    "train_df.info()"
   ]
  },
  {
   "cell_type": "code",
   "execution_count": 6,
   "metadata": {},
   "outputs": [
    {
     "name": "stdout",
     "output_type": "stream",
     "text": [
      "Missing values per column:\n",
      "Unnamed: 0           0\n",
      "id                   0\n",
      "indra_time           0\n",
      "browser_latency      0\n",
      "reading_time         0\n",
      "attention_esense     0\n",
      "meditation_esense    0\n",
      "eeg_power            0\n",
      "raw_values           0\n",
      "signal_quality       0\n",
      "createdAt            0\n",
      "updatedAt            0\n",
      "label                0\n",
      "dtype: int64\n"
     ]
    }
   ],
   "source": [
    "def num_missing(x):\n",
    "  return sum(x.isnull())\n",
    "\n",
    "#Applying per column:\n",
    "print (\"Missing values per column:\")\n",
    "print (train_df.apply(num_missing, axis=0) )#axis=0 defines that function is to be applied on each column"
   ]
  },
  {
   "cell_type": "code",
   "execution_count": null,
   "metadata": {},
   "outputs": [],
   "source": []
  }
 ],
 "metadata": {
  "kernelspec": {
   "display_name": "Python 3",
   "language": "python",
   "name": "python3"
  },
  "language_info": {
   "codemirror_mode": {
    "name": "ipython",
    "version": 3
   },
   "file_extension": ".py",
   "mimetype": "text/x-python",
   "name": "python",
   "nbconvert_exporter": "python",
   "pygments_lexer": "ipython3",
   "version": "3.7.2"
  }
 },
 "nbformat": 4,
 "nbformat_minor": 2
}
