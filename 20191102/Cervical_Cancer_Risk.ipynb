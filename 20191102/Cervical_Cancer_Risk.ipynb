{
 "cells": [
  {
   "cell_type": "markdown",
   "metadata": {},
   "source": [
    "# Cervical Cancer Risk Classification\n",
    "\n",
    "生検の子宮頸がんの危険因子：このデータセットはUCIリポジトリから取得され、親切に認められています！\n",
    "\n",
    "このファイルには、生検検査につながる子宮頸がんの危険因子のリストが含まれています！\n",
    "\n",
    "米国では毎年約11,000の浸潤性子宮頸がんの新しい症例が診断されていますが、過去数十年間で新しい子宮頸がんの症例数は着実に減少しています。最も予防可能な種類のがんですが、子宮頸がんは毎年米国で約4,000人の女性を殺し、世界中で約300,000人の女性を殺しています。\n",
    "\n",
    "米国では、スクリーニングの増加とPapテストによる早期発見のおかげで、子宮頸がんによる死亡率は1955年から1992年にかけて74％急落しました。年齢子宮頸がんの診断の50％は35〜54歳の女性に発生し、約20％は65歳以上の女性に発生します。\n",
    "\n",
    "診断の年齢の中央値は48歳です。女性の約15％は20〜30歳の間に子宮頸がんを発症します。子宮頸がんは20歳未満の女性では非常にまれです。しかし、多くの若い女性は複数のタイプのヒトパピローマウイルスに感染し、将来的に子宮頸がんになる。\n",
    "\n",
    "定期検査を受けていない初期の異常な変化をもつ若い女性は、40歳までに限局性がんのリスクが高く、50歳までに浸潤がんのリスクが高くなります。\n",
    "\n",
    "社会経済的および民族的要因子宮頸がんの割合は両方の白人で低下していますが過去数十年にわたってアフリカ系アメリカ人の女性は、アフリカ系アメリカ人ではるかに流行し続けており、その死亡率は白人女性の2倍です。\n",
    "\n",
    "ヒスパニック系アメリカ人女性は、スクリーニング率が低いため、浸潤性子宮頸がんのリスクが白人女性の2倍以上です。ただし、これらの違いはほぼ確実に社会的および経済的な違いによるものです。\n",
    "\n",
    "多数の研究が、高い貧困レベルは低いスクリーニング率と関連していると報告しています。\n",
    "\n",
    "さらに、健康保険の欠如、交通機関の制限、言語の問題により、貧しい女性のスクリーニングサービスへのアクセスが妨げられています。\n",
    "\n",
    "高い性的活動ヒト乳頭腫ウイルス（HPV）は子宮頸癌の主な危険因子です。成人では、HPVの最も重要な危険因子は感染者との性行為です。子宮頸がんのリスクが最も高い女性は、複数の性的パートナー、17歳以下の性交、またはその両方の既往がある女性です。\n",
    "\n",
    "一度も性的活動をしたことがない女性は、子宮頸がんを発症するリスクが非常に低くなります。\n",
    "\n",
    "複数のパートナーとの性的活動は、他の多くの性感染症（クラミジア、nor病、梅毒）の可能性を高めます。\n",
    "\n",
    "クラミジアとHPV感染を長引かせる可能性を含む子宮頸がんリスクとの関連性が研究により判明しています。家族歴女性は、子宮頸がんにかかった第一度近親者（母親、姉妹）がいる場合、子宮頸がんのリスクが高くなります。\n",
    "\n",
    "経口避妊薬の使用子宮頸がんと経口避妊薬（OC）の長期使用との間に強い関連性が報告されています。 5〜10年以上経口避妊薬を服用している女性は、OCを使用していない女性よりもHPV感染のリスクがはるかに高い（最大4倍）ようです。 （OCを5年未満服用している女性のリスクはそれほど高くありません。）OC使用によるこのリスクの理由は完全には明らかではありません。 OCを使用する女性は、横隔膜、コンドーム、またはHPVを含む性感染症に対する保護を提供する他の方法を使用する可能性が低くなります。いくつかの研究は、OCのホルモンがウイルスが子宮頸部細胞の遺伝物質に入るのを助けるかもしれないことも示唆しています。多くの子供を抱える研究では、特にHPVに感染した女性では、多くの子供がいると子宮頸がんを発症するリスクが高まることが示されています。\n",
    "\n",
    "喫煙喫煙は、特にHPVに感染した女性の場合、子宮頸部の前がん性変化（異形成）および浸潤性子宮頸がんへの進行のリスクが高いことに関連しています。免疫抑制免疫系が弱い女性（HIV / AIDSの女性など）は、HPVを取得しやすくなります。\n",
    "\n",
    "免疫不全患者は、子宮頸部前癌が浸潤性癌に急速に発展するリスクも高くなります。 DIETHYLSTILBESTROL（DES）1938年から1971年にかけて、流産防止のため、エストロゲン関連薬であるジエチルスチルベストロール（DES）が妊婦に広く処方されました。これらの女性の娘は、子宮頸がんのリスクが高くなります。 DESはもはや規定されていません。"
   ]
  },
  {
   "cell_type": "markdown",
   "metadata": {},
   "source": [
    "## データ分析\n",
    "必要になるライブラリ呼ぶ"
   ]
  },
  {
   "cell_type": "code",
   "execution_count": 1,
   "metadata": {},
   "outputs": [],
   "source": [
    "# data analysis and wrangling\n",
    "import pandas as pd\n",
    "import numpy as np\n",
    "import random as rnd\n",
    "\n",
    "from collections import Counter\n",
    "\n",
    "# visualization\n",
    "import seaborn as sns\n",
    "import matplotlib.pyplot as plt\n",
    "%matplotlib inline\n"
   ]
  },
  {
   "cell_type": "markdown",
   "metadata": {},
   "source": [
    "# データ読み込み"
   ]
  },
  {
   "cell_type": "code",
   "execution_count": 2,
   "metadata": {},
   "outputs": [],
   "source": [
    "train_df = pd.read_csv('~/Dropbox/@00_input/Cervical_Cancer_Risk/kag_risk_factors_cervical_cancer.csv')"
   ]
  },
  {
   "cell_type": "markdown",
   "metadata": {},
   "source": [
    "データフレームのカラムを取得"
   ]
  },
  {
   "cell_type": "code",
   "execution_count": 3,
   "metadata": {},
   "outputs": [
    {
     "name": "stdout",
     "output_type": "stream",
     "text": [
      "['Age' 'Number of sexual partners' 'First sexual intercourse'\n",
      " 'Num of pregnancies' 'Smokes' 'Smokes (years)' 'Smokes (packs/year)'\n",
      " 'Hormonal Contraceptives' 'Hormonal Contraceptives (years)' 'IUD'\n",
      " 'IUD (years)' 'STDs' 'STDs (number)' 'STDs:condylomatosis'\n",
      " 'STDs:cervical condylomatosis' 'STDs:vaginal condylomatosis'\n",
      " 'STDs:vulvo-perineal condylomatosis' 'STDs:syphilis'\n",
      " 'STDs:pelvic inflammatory disease' 'STDs:genital herpes'\n",
      " 'STDs:molluscum contagiosum' 'STDs:AIDS' 'STDs:HIV' 'STDs:Hepatitis B'\n",
      " 'STDs:HPV' 'STDs: Number of diagnosis' 'STDs: Time since first diagnosis'\n",
      " 'STDs: Time since last diagnosis' 'Dx:Cancer' 'Dx:CIN' 'Dx:HPV' 'Dx'\n",
      " 'Hinselmann' 'Schiller' 'Citology' 'Biopsy']\n"
     ]
    }
   ],
   "source": [
    "print(train_df.columns.values)\n",
    "#print(test_df.columns.values)"
   ]
  },
  {
   "cell_type": "code",
   "execution_count": 4,
   "metadata": {},
   "outputs": [
    {
     "name": "stdout",
     "output_type": "stream",
     "text": [
      "train data size (858, 36)\n"
     ]
    }
   ],
   "source": [
    "print(\"train data size\", train_df.shape)\n",
    "#print(\"train data size\", test_df.shape)"
   ]
  },
  {
   "cell_type": "code",
   "execution_count": 5,
   "metadata": {},
   "outputs": [
    {
     "data": {
      "text/html": [
       "<div>\n",
       "<style scoped>\n",
       "    .dataframe tbody tr th:only-of-type {\n",
       "        vertical-align: middle;\n",
       "    }\n",
       "\n",
       "    .dataframe tbody tr th {\n",
       "        vertical-align: top;\n",
       "    }\n",
       "\n",
       "    .dataframe thead th {\n",
       "        text-align: right;\n",
       "    }\n",
       "</style>\n",
       "<table border=\"1\" class=\"dataframe\">\n",
       "  <thead>\n",
       "    <tr style=\"text-align: right;\">\n",
       "      <th></th>\n",
       "      <th>Age</th>\n",
       "      <th>Number of sexual partners</th>\n",
       "      <th>First sexual intercourse</th>\n",
       "      <th>Num of pregnancies</th>\n",
       "      <th>Smokes</th>\n",
       "      <th>Smokes (years)</th>\n",
       "      <th>Smokes (packs/year)</th>\n",
       "      <th>Hormonal Contraceptives</th>\n",
       "      <th>Hormonal Contraceptives (years)</th>\n",
       "      <th>IUD</th>\n",
       "      <th>...</th>\n",
       "      <th>STDs: Time since first diagnosis</th>\n",
       "      <th>STDs: Time since last diagnosis</th>\n",
       "      <th>Dx:Cancer</th>\n",
       "      <th>Dx:CIN</th>\n",
       "      <th>Dx:HPV</th>\n",
       "      <th>Dx</th>\n",
       "      <th>Hinselmann</th>\n",
       "      <th>Schiller</th>\n",
       "      <th>Citology</th>\n",
       "      <th>Biopsy</th>\n",
       "    </tr>\n",
       "  </thead>\n",
       "  <tbody>\n",
       "    <tr>\n",
       "      <td>0</td>\n",
       "      <td>18</td>\n",
       "      <td>4.0</td>\n",
       "      <td>15.0</td>\n",
       "      <td>1.0</td>\n",
       "      <td>0.0</td>\n",
       "      <td>0.0</td>\n",
       "      <td>0.0</td>\n",
       "      <td>0.0</td>\n",
       "      <td>0.0</td>\n",
       "      <td>0.0</td>\n",
       "      <td>...</td>\n",
       "      <td>?</td>\n",
       "      <td>?</td>\n",
       "      <td>0</td>\n",
       "      <td>0</td>\n",
       "      <td>0</td>\n",
       "      <td>0</td>\n",
       "      <td>0</td>\n",
       "      <td>0</td>\n",
       "      <td>0</td>\n",
       "      <td>0</td>\n",
       "    </tr>\n",
       "    <tr>\n",
       "      <td>1</td>\n",
       "      <td>15</td>\n",
       "      <td>1.0</td>\n",
       "      <td>14.0</td>\n",
       "      <td>1.0</td>\n",
       "      <td>0.0</td>\n",
       "      <td>0.0</td>\n",
       "      <td>0.0</td>\n",
       "      <td>0.0</td>\n",
       "      <td>0.0</td>\n",
       "      <td>0.0</td>\n",
       "      <td>...</td>\n",
       "      <td>?</td>\n",
       "      <td>?</td>\n",
       "      <td>0</td>\n",
       "      <td>0</td>\n",
       "      <td>0</td>\n",
       "      <td>0</td>\n",
       "      <td>0</td>\n",
       "      <td>0</td>\n",
       "      <td>0</td>\n",
       "      <td>0</td>\n",
       "    </tr>\n",
       "    <tr>\n",
       "      <td>2</td>\n",
       "      <td>34</td>\n",
       "      <td>1.0</td>\n",
       "      <td>?</td>\n",
       "      <td>1.0</td>\n",
       "      <td>0.0</td>\n",
       "      <td>0.0</td>\n",
       "      <td>0.0</td>\n",
       "      <td>0.0</td>\n",
       "      <td>0.0</td>\n",
       "      <td>0.0</td>\n",
       "      <td>...</td>\n",
       "      <td>?</td>\n",
       "      <td>?</td>\n",
       "      <td>0</td>\n",
       "      <td>0</td>\n",
       "      <td>0</td>\n",
       "      <td>0</td>\n",
       "      <td>0</td>\n",
       "      <td>0</td>\n",
       "      <td>0</td>\n",
       "      <td>0</td>\n",
       "    </tr>\n",
       "    <tr>\n",
       "      <td>3</td>\n",
       "      <td>52</td>\n",
       "      <td>5.0</td>\n",
       "      <td>16.0</td>\n",
       "      <td>4.0</td>\n",
       "      <td>1.0</td>\n",
       "      <td>37.0</td>\n",
       "      <td>37.0</td>\n",
       "      <td>1.0</td>\n",
       "      <td>3.0</td>\n",
       "      <td>0.0</td>\n",
       "      <td>...</td>\n",
       "      <td>?</td>\n",
       "      <td>?</td>\n",
       "      <td>1</td>\n",
       "      <td>0</td>\n",
       "      <td>1</td>\n",
       "      <td>0</td>\n",
       "      <td>0</td>\n",
       "      <td>0</td>\n",
       "      <td>0</td>\n",
       "      <td>0</td>\n",
       "    </tr>\n",
       "    <tr>\n",
       "      <td>4</td>\n",
       "      <td>46</td>\n",
       "      <td>3.0</td>\n",
       "      <td>21.0</td>\n",
       "      <td>4.0</td>\n",
       "      <td>0.0</td>\n",
       "      <td>0.0</td>\n",
       "      <td>0.0</td>\n",
       "      <td>1.0</td>\n",
       "      <td>15.0</td>\n",
       "      <td>0.0</td>\n",
       "      <td>...</td>\n",
       "      <td>?</td>\n",
       "      <td>?</td>\n",
       "      <td>0</td>\n",
       "      <td>0</td>\n",
       "      <td>0</td>\n",
       "      <td>0</td>\n",
       "      <td>0</td>\n",
       "      <td>0</td>\n",
       "      <td>0</td>\n",
       "      <td>0</td>\n",
       "    </tr>\n",
       "  </tbody>\n",
       "</table>\n",
       "<p>5 rows × 36 columns</p>\n",
       "</div>"
      ],
      "text/plain": [
       "   Age Number of sexual partners First sexual intercourse Num of pregnancies  \\\n",
       "0   18                       4.0                     15.0                1.0   \n",
       "1   15                       1.0                     14.0                1.0   \n",
       "2   34                       1.0                        ?                1.0   \n",
       "3   52                       5.0                     16.0                4.0   \n",
       "4   46                       3.0                     21.0                4.0   \n",
       "\n",
       "  Smokes Smokes (years) Smokes (packs/year) Hormonal Contraceptives  \\\n",
       "0    0.0            0.0                 0.0                     0.0   \n",
       "1    0.0            0.0                 0.0                     0.0   \n",
       "2    0.0            0.0                 0.0                     0.0   \n",
       "3    1.0           37.0                37.0                     1.0   \n",
       "4    0.0            0.0                 0.0                     1.0   \n",
       "\n",
       "  Hormonal Contraceptives (years)  IUD  ... STDs: Time since first diagnosis  \\\n",
       "0                             0.0  0.0  ...                                ?   \n",
       "1                             0.0  0.0  ...                                ?   \n",
       "2                             0.0  0.0  ...                                ?   \n",
       "3                             3.0  0.0  ...                                ?   \n",
       "4                            15.0  0.0  ...                                ?   \n",
       "\n",
       "  STDs: Time since last diagnosis Dx:Cancer Dx:CIN Dx:HPV Dx Hinselmann  \\\n",
       "0                               ?         0      0      0  0          0   \n",
       "1                               ?         0      0      0  0          0   \n",
       "2                               ?         0      0      0  0          0   \n",
       "3                               ?         1      0      1  0          0   \n",
       "4                               ?         0      0      0  0          0   \n",
       "\n",
       "  Schiller Citology Biopsy  \n",
       "0        0        0      0  \n",
       "1        0        0      0  \n",
       "2        0        0      0  \n",
       "3        0        0      0  \n",
       "4        0        0      0  \n",
       "\n",
       "[5 rows x 36 columns]"
      ]
     },
     "execution_count": 5,
     "metadata": {},
     "output_type": "execute_result"
    }
   ],
   "source": [
    "train_df.head()"
   ]
  },
  {
   "cell_type": "markdown",
   "metadata": {},
   "source": [
    "null チェック"
   ]
  },
  {
   "cell_type": "code",
   "execution_count": 6,
   "metadata": {},
   "outputs": [
    {
     "name": "stdout",
     "output_type": "stream",
     "text": [
      "<class 'pandas.core.frame.DataFrame'>\n",
      "RangeIndex: 858 entries, 0 to 857\n",
      "Data columns (total 36 columns):\n",
      "Age                                   858 non-null int64\n",
      "Number of sexual partners             858 non-null object\n",
      "First sexual intercourse              858 non-null object\n",
      "Num of pregnancies                    858 non-null object\n",
      "Smokes                                858 non-null object\n",
      "Smokes (years)                        858 non-null object\n",
      "Smokes (packs/year)                   858 non-null object\n",
      "Hormonal Contraceptives               858 non-null object\n",
      "Hormonal Contraceptives (years)       858 non-null object\n",
      "IUD                                   858 non-null object\n",
      "IUD (years)                           858 non-null object\n",
      "STDs                                  858 non-null object\n",
      "STDs (number)                         858 non-null object\n",
      "STDs:condylomatosis                   858 non-null object\n",
      "STDs:cervical condylomatosis          858 non-null object\n",
      "STDs:vaginal condylomatosis           858 non-null object\n",
      "STDs:vulvo-perineal condylomatosis    858 non-null object\n",
      "STDs:syphilis                         858 non-null object\n",
      "STDs:pelvic inflammatory disease      858 non-null object\n",
      "STDs:genital herpes                   858 non-null object\n",
      "STDs:molluscum contagiosum            858 non-null object\n",
      "STDs:AIDS                             858 non-null object\n",
      "STDs:HIV                              858 non-null object\n",
      "STDs:Hepatitis B                      858 non-null object\n",
      "STDs:HPV                              858 non-null object\n",
      "STDs: Number of diagnosis             858 non-null int64\n",
      "STDs: Time since first diagnosis      858 non-null object\n",
      "STDs: Time since last diagnosis       858 non-null object\n",
      "Dx:Cancer                             858 non-null int64\n",
      "Dx:CIN                                858 non-null int64\n",
      "Dx:HPV                                858 non-null int64\n",
      "Dx                                    858 non-null int64\n",
      "Hinselmann                            858 non-null int64\n",
      "Schiller                              858 non-null int64\n",
      "Citology                              858 non-null int64\n",
      "Biopsy                                858 non-null int64\n",
      "dtypes: int64(10), object(26)\n",
      "memory usage: 241.4+ KB\n"
     ]
    }
   ],
   "source": [
    "train_df.info()"
   ]
  },
  {
   "cell_type": "code",
   "execution_count": 8,
   "metadata": {},
   "outputs": [
    {
     "name": "stdout",
     "output_type": "stream",
     "text": [
      "Missing values per column:\n",
      "Age                                   0\n",
      "Number of sexual partners             0\n",
      "First sexual intercourse              0\n",
      "Num of pregnancies                    0\n",
      "Smokes                                0\n",
      "Smokes (years)                        0\n",
      "Smokes (packs/year)                   0\n",
      "Hormonal Contraceptives               0\n",
      "Hormonal Contraceptives (years)       0\n",
      "IUD                                   0\n",
      "IUD (years)                           0\n",
      "STDs                                  0\n",
      "STDs (number)                         0\n",
      "STDs:condylomatosis                   0\n",
      "STDs:cervical condylomatosis          0\n",
      "STDs:vaginal condylomatosis           0\n",
      "STDs:vulvo-perineal condylomatosis    0\n",
      "STDs:syphilis                         0\n",
      "STDs:pelvic inflammatory disease      0\n",
      "STDs:genital herpes                   0\n",
      "STDs:molluscum contagiosum            0\n",
      "STDs:AIDS                             0\n",
      "STDs:HIV                              0\n",
      "STDs:Hepatitis B                      0\n",
      "STDs:HPV                              0\n",
      "STDs: Number of diagnosis             0\n",
      "STDs: Time since first diagnosis      0\n",
      "STDs: Time since last diagnosis       0\n",
      "Dx:Cancer                             0\n",
      "Dx:CIN                                0\n",
      "Dx:HPV                                0\n",
      "Dx                                    0\n",
      "Hinselmann                            0\n",
      "Schiller                              0\n",
      "Citology                              0\n",
      "Biopsy                                0\n",
      "dtype: int64\n"
     ]
    }
   ],
   "source": [
    "def num_missing(x):\n",
    "  return sum(x.isnull())\n",
    "\n",
    "#Applying per column:\n",
    "print (\"Missing values per column:\")\n",
    "print (train_df.apply(num_missing, axis=0) )#axis=0 defines that function is to be applied on each column"
   ]
  },
  {
   "cell_type": "markdown",
   "metadata": {},
   "source": [
    "## 2. Data-preprocessing"
   ]
  },
  {
   "cell_type": "code",
   "execution_count": 11,
   "metadata": {},
   "outputs": [
    {
     "data": {
      "text/plain": [
       "Age                                     0\n",
       "Number of sexual partners              26\n",
       "First sexual intercourse                7\n",
       "Num of pregnancies                     56\n",
       "Smokes                                 13\n",
       "Smokes (years)                         13\n",
       "Smokes (packs/year)                    13\n",
       "Hormonal Contraceptives               108\n",
       "Hormonal Contraceptives (years)       108\n",
       "IUD                                   117\n",
       "IUD (years)                           117\n",
       "STDs                                  105\n",
       "STDs (number)                         105\n",
       "STDs:condylomatosis                   105\n",
       "STDs:cervical condylomatosis          105\n",
       "STDs:vaginal condylomatosis           105\n",
       "STDs:vulvo-perineal condylomatosis    105\n",
       "STDs:syphilis                         105\n",
       "STDs:pelvic inflammatory disease      105\n",
       "STDs:genital herpes                   105\n",
       "STDs:molluscum contagiosum            105\n",
       "STDs:AIDS                             105\n",
       "STDs:HIV                              105\n",
       "STDs:Hepatitis B                      105\n",
       "STDs:HPV                              105\n",
       "STDs: Number of diagnosis               0\n",
       "STDs: Time since first diagnosis      787\n",
       "STDs: Time since last diagnosis       787\n",
       "Dx:Cancer                               0\n",
       "Dx:CIN                                  0\n",
       "Dx:HPV                                  0\n",
       "Dx                                      0\n",
       "Hinselmann                              0\n",
       "Schiller                                0\n",
       "Citology                                0\n",
       "Biopsy                                  0\n",
       "dtype: int64"
      ]
     },
     "execution_count": 11,
     "metadata": {},
     "output_type": "execute_result"
    }
   ],
   "source": [
    "df_fullna = train_df.replace('?', np.nan)\n",
    "df_fullna.isnull().sum() #check NaN counts in different columns"
   ]
  },
  {
   "cell_type": "code",
   "execution_count": 14,
   "metadata": {},
   "outputs": [],
   "source": [
    "df = df_fullna  #making temporary save"
   ]
  },
  {
   "cell_type": "code",
   "execution_count": 15,
   "metadata": {},
   "outputs": [
    {
     "ename": "AttributeError",
     "evalue": "'DataFrame' object has no attribute 'convert_objects'",
     "output_type": "error",
     "traceback": [
      "\u001b[0;31m---------------------------------------------------------------------------\u001b[0m",
      "\u001b[0;31mAttributeError\u001b[0m                            Traceback (most recent call last)",
      "\u001b[0;32m<ipython-input-15-0abf1ccaf099>\u001b[0m in \u001b[0;36m<module>\u001b[0;34m\u001b[0m\n\u001b[0;32m----> 1\u001b[0;31m \u001b[0mdf\u001b[0m \u001b[0;34m=\u001b[0m \u001b[0mdf\u001b[0m\u001b[0;34m.\u001b[0m\u001b[0mconvert_objects\u001b[0m\u001b[0;34m(\u001b[0m\u001b[0mconvert_numeric\u001b[0m\u001b[0;34m=\u001b[0m\u001b[0;32mTrue\u001b[0m\u001b[0;34m)\u001b[0m \u001b[0;31m#turn data into numeric type for computation\u001b[0m\u001b[0;34m\u001b[0m\u001b[0;34m\u001b[0m\u001b[0m\n\u001b[0m",
      "\u001b[0;32m~/.pyenv/versions/anaconda3-5.3.1/lib/python3.7/site-packages/pandas/core/generic.py\u001b[0m in \u001b[0;36m__getattr__\u001b[0;34m(self, name)\u001b[0m\n\u001b[1;32m   5177\u001b[0m             \u001b[0;32mif\u001b[0m \u001b[0mself\u001b[0m\u001b[0;34m.\u001b[0m\u001b[0m_info_axis\u001b[0m\u001b[0;34m.\u001b[0m\u001b[0m_can_hold_identifiers_and_holds_name\u001b[0m\u001b[0;34m(\u001b[0m\u001b[0mname\u001b[0m\u001b[0;34m)\u001b[0m\u001b[0;34m:\u001b[0m\u001b[0;34m\u001b[0m\u001b[0;34m\u001b[0m\u001b[0m\n\u001b[1;32m   5178\u001b[0m                 \u001b[0;32mreturn\u001b[0m \u001b[0mself\u001b[0m\u001b[0;34m[\u001b[0m\u001b[0mname\u001b[0m\u001b[0;34m]\u001b[0m\u001b[0;34m\u001b[0m\u001b[0;34m\u001b[0m\u001b[0m\n\u001b[0;32m-> 5179\u001b[0;31m             \u001b[0;32mreturn\u001b[0m \u001b[0mobject\u001b[0m\u001b[0;34m.\u001b[0m\u001b[0m__getattribute__\u001b[0m\u001b[0;34m(\u001b[0m\u001b[0mself\u001b[0m\u001b[0;34m,\u001b[0m \u001b[0mname\u001b[0m\u001b[0;34m)\u001b[0m\u001b[0;34m\u001b[0m\u001b[0;34m\u001b[0m\u001b[0m\n\u001b[0m\u001b[1;32m   5180\u001b[0m \u001b[0;34m\u001b[0m\u001b[0m\n\u001b[1;32m   5181\u001b[0m     \u001b[0;32mdef\u001b[0m \u001b[0m__setattr__\u001b[0m\u001b[0;34m(\u001b[0m\u001b[0mself\u001b[0m\u001b[0;34m,\u001b[0m \u001b[0mname\u001b[0m\u001b[0;34m,\u001b[0m \u001b[0mvalue\u001b[0m\u001b[0;34m)\u001b[0m\u001b[0;34m:\u001b[0m\u001b[0;34m\u001b[0m\u001b[0;34m\u001b[0m\u001b[0m\n",
      "\u001b[0;31mAttributeError\u001b[0m: 'DataFrame' object has no attribute 'convert_objects'"
     ]
    }
   ],
   "source": [
    "df = df.convert_objects(convert_numeric=True) #turn data into numeric type for computation"
   ]
  },
  {
   "cell_type": "code",
   "execution_count": 16,
   "metadata": {},
   "outputs": [
    {
     "name": "stdout",
     "output_type": "stream",
     "text": [
      "<class 'pandas.core.frame.DataFrame'>\n",
      "RangeIndex: 858 entries, 0 to 857\n",
      "Data columns (total 36 columns):\n",
      "Age                                   858 non-null int64\n",
      "Number of sexual partners             832 non-null object\n",
      "First sexual intercourse              851 non-null object\n",
      "Num of pregnancies                    802 non-null object\n",
      "Smokes                                845 non-null object\n",
      "Smokes (years)                        845 non-null object\n",
      "Smokes (packs/year)                   845 non-null object\n",
      "Hormonal Contraceptives               750 non-null object\n",
      "Hormonal Contraceptives (years)       750 non-null object\n",
      "IUD                                   741 non-null object\n",
      "IUD (years)                           741 non-null object\n",
      "STDs                                  753 non-null object\n",
      "STDs (number)                         753 non-null object\n",
      "STDs:condylomatosis                   753 non-null object\n",
      "STDs:cervical condylomatosis          753 non-null object\n",
      "STDs:vaginal condylomatosis           753 non-null object\n",
      "STDs:vulvo-perineal condylomatosis    753 non-null object\n",
      "STDs:syphilis                         753 non-null object\n",
      "STDs:pelvic inflammatory disease      753 non-null object\n",
      "STDs:genital herpes                   753 non-null object\n",
      "STDs:molluscum contagiosum            753 non-null object\n",
      "STDs:AIDS                             753 non-null object\n",
      "STDs:HIV                              753 non-null object\n",
      "STDs:Hepatitis B                      753 non-null object\n",
      "STDs:HPV                              753 non-null object\n",
      "STDs: Number of diagnosis             858 non-null int64\n",
      "STDs: Time since first diagnosis      71 non-null object\n",
      "STDs: Time since last diagnosis       71 non-null object\n",
      "Dx:Cancer                             858 non-null int64\n",
      "Dx:CIN                                858 non-null int64\n",
      "Dx:HPV                                858 non-null int64\n",
      "Dx                                    858 non-null int64\n",
      "Hinselmann                            858 non-null int64\n",
      "Schiller                              858 non-null int64\n",
      "Citology                              858 non-null int64\n",
      "Biopsy                                858 non-null int64\n",
      "dtypes: int64(10), object(26)\n",
      "memory usage: 241.4+ KB\n"
     ]
    }
   ],
   "source": [
    "df.info() # Now it's all numeric type, and we are ready for computation and fill NaN."
   ]
  },
  {
   "cell_type": "code",
   "execution_count": 17,
   "metadata": {},
   "outputs": [],
   "source": [
    "# for continuous variable\n",
    "df['Number of sexual partners'] = df['Number of sexual partners'].fillna(df['Number of sexual partners'].median())\n",
    "df['First sexual intercourse'] = df['First sexual intercourse'].fillna(df['First sexual intercourse'].median())\n",
    "df['Num of pregnancies'] = df['Num of pregnancies'].fillna(df['Num of pregnancies'].median())\n",
    "df['Smokes'] = df['Smokes'].fillna(1)\n",
    "df['Smokes (years)'] = df['Smokes (years)'].fillna(df['Smokes (years)'].median())\n",
    "df['Smokes (packs/year)'] = df['Smokes (packs/year)'].fillna(df['Smokes (packs/year)'].median())\n",
    "df['Hormonal Contraceptives'] = df['Hormonal Contraceptives'].fillna(1)\n",
    "df['Hormonal Contraceptives (years)'] = df['Hormonal Contraceptives (years)'].fillna(df['Hormonal Contraceptives (years)'].median())\n",
    "df['IUD'] = df['IUD'].fillna(0) # Under suggestion\n",
    "df['IUD (years)'] = df['IUD (years)'].fillna(0) #Under suggestion\n",
    "df['STDs'] = df['STDs'].fillna(1)\n",
    "df['STDs (number)'] = df['STDs (number)'].fillna(df['STDs (number)'].median())\n",
    "df['STDs:condylomatosis'] = df['STDs:condylomatosis'].fillna(df['STDs:condylomatosis'].median())\n",
    "df['STDs:cervical condylomatosis'] = df['STDs:cervical condylomatosis'].fillna(df['STDs:cervical condylomatosis'].median())\n",
    "df['STDs:vaginal condylomatosis'] = df['STDs:vaginal condylomatosis'].fillna(df['STDs:vaginal condylomatosis'].median())\n",
    "df['STDs:vulvo-perineal condylomatosis'] = df['STDs:vulvo-perineal condylomatosis'].fillna(df['STDs:vulvo-perineal condylomatosis'].median())\n",
    "df['STDs:syphilis'] = df['STDs:syphilis'].fillna(df['STDs:syphilis'].median())\n",
    "df['STDs:pelvic inflammatory disease'] = df['STDs:pelvic inflammatory disease'].fillna(df['STDs:pelvic inflammatory disease'].median())\n",
    "df['STDs:genital herpes'] = df['STDs:genital herpes'].fillna(df['STDs:genital herpes'].median())\n",
    "df['STDs:molluscum contagiosum'] = df['STDs:molluscum contagiosum'].fillna(df['STDs:molluscum contagiosum'].median())\n",
    "df['STDs:AIDS'] = df['STDs:AIDS'].fillna(df['STDs:AIDS'].median())\n",
    "df['STDs:HIV'] = df['STDs:HIV'].fillna(df['STDs:HIV'].median())\n",
    "df['STDs:Hepatitis B'] = df['STDs:Hepatitis B'].fillna(df['STDs:Hepatitis B'].median())\n",
    "df['STDs:HPV'] = df['STDs:HPV'].fillna(df['STDs:HPV'].median())\n",
    "df['STDs: Time since first diagnosis'] = df['STDs: Time since first diagnosis'].fillna(df['STDs: Time since first diagnosis'].median())\n",
    "df['STDs: Time since last diagnosis'] = df['STDs: Time since last diagnosis'].fillna(df['STDs: Time since last diagnosis'].median())"
   ]
  },
  {
   "cell_type": "code",
   "execution_count": null,
   "metadata": {},
   "outputs": [],
   "source": []
  }
 ],
 "metadata": {
  "kernelspec": {
   "display_name": "Python 3",
   "language": "python",
   "name": "python3"
  },
  "language_info": {
   "codemirror_mode": {
    "name": "ipython",
    "version": 3
   },
   "file_extension": ".py",
   "mimetype": "text/x-python",
   "name": "python",
   "nbconvert_exporter": "python",
   "pygments_lexer": "ipython3",
   "version": "3.7.2"
  }
 },
 "nbformat": 4,
 "nbformat_minor": 2
}
